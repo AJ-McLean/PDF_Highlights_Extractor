{
 "cells": [
  {
   "cell_type": "code",
   "execution_count": 1,
   "id": "785ec7d5",
   "metadata": {},
   "outputs": [],
   "source": [
    "import fitz  # PyMuPDF\n",
    "import os"
   ]
  },
  {
   "cell_type": "code",
   "execution_count": 4,
   "id": "d4e30c12",
   "metadata": {},
   "outputs": [],
   "source": [
    "input_pdf = \"/Users/angusmclean/Downloads/Philly Savory Insights for WPP copy/Situation Analysis and Equity/Philadelphia in Plain Herbs Flavored 2024 final shared.pptx\"  # Replace with your actual PDF file path"
   ]
  },
  {
   "cell_type": "code",
   "execution_count": 5,
   "id": "22390ac8",
   "metadata": {},
   "outputs": [
    {
     "name": "stdout",
     "output_type": "stream",
     "text": [
      "No highlights or annotations found.\n"
     ]
    }
   ],
   "source": [
    "import fitz  # PyMuPDF\n",
    "import os\n",
    "\n",
    "def extract_mac_preview_highlights(pdf_path):\n",
    "    \"\"\"\n",
    "    Extracts highlights and annotations from a PDF file, including those made in macOS Preview.\n",
    "    \n",
    "    :param pdf_path: Path to the input PDF file.\n",
    "    \"\"\"\n",
    "    try:\n",
    "        doc = fitz.open(pdf_path)\n",
    "        annotations = []\n",
    "        output_txt_path = os.path.splitext(pdf_path)[0] + \".txt\"\n",
    "\n",
    "        for page_num, page in enumerate(doc, start=1):\n",
    "            words = page.get_text(\"words\")  # Extract words from the page\n",
    "            words_dict = {fitz.Rect(w[:4]): w[4] for w in words}  # Create a dictionary of words\n",
    "            \n",
    "            for annot in page.annots():  # Loop through annotations\n",
    "                highlight_text = \"\"\n",
    "                annot_text = annot.info.get(\"content\", \"\").strip()  # User-added note (if any)\n",
    "\n",
    "                if annot.type[0] == 8:  # 8 = Highlight annotation\n",
    "                    quad_points = annot.vertices  # Get the highlight region\n",
    "                    if quad_points:\n",
    "                        for i in range(0, len(quad_points), 4):\n",
    "                            rect = fitz.Quad(quad_points[i:i+4]).rect  # Convert highlight coordinates to a rectangle\n",
    "                            highlight_text += \" \".join(\n",
    "                                words_dict[w] for w in words_dict if w.intersects(rect)\n",
    "                            ) + \" \"  # Extract words inside the highlight\n",
    "\n",
    "                # Save annotation details\n",
    "                if highlight_text.strip() or annot_text:\n",
    "                    annotations.append(\n",
    "                        f\"Page {page_num}:\\nHighlighted Text: {highlight_text.strip()}\\nAnnotation: {annot_text}\\n---\\n\"\n",
    "                    )\n",
    "\n",
    "        # Save extracted highlights to a text file\n",
    "        if annotations:\n",
    "            with open(output_txt_path, \"w\", encoding=\"utf-8\") as f:\n",
    "                f.writelines(annotations)\n",
    "            print(f\"Annotations successfully extracted to {output_txt_path}\")\n",
    "        else:\n",
    "            print(\"No highlights or annotations found.\")\n",
    "\n",
    "    except Exception as e:\n",
    "        print(f\"Error: {e}\")\n",
    "\n",
    "if __name__ == \"__main__\":\n",
    "    extract_mac_preview_highlights(input_pdf)\n"
   ]
  },
  {
   "cell_type": "code",
   "execution_count": null,
   "id": "4e6009f3",
   "metadata": {},
   "outputs": [],
   "source": []
  }
 ],
 "metadata": {
  "kernelspec": {
   "display_name": "Python 3 (ipykernel)",
   "language": "python",
   "name": "python3"
  },
  "language_info": {
   "codemirror_mode": {
    "name": "ipython",
    "version": 3
   },
   "file_extension": ".py",
   "mimetype": "text/x-python",
   "name": "python",
   "nbconvert_exporter": "python",
   "pygments_lexer": "ipython3",
   "version": "3.11.7"
  }
 },
 "nbformat": 4,
 "nbformat_minor": 5
}
